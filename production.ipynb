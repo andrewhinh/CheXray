{
 "cells": [
  {
   "cell_type": "markdown",
   "metadata": {
    "tags": []
   },
   "source": [
    "<p align=\"center\">\n",
    "  <h1 align=\"center\">CheXRay: Automatically Diagnosing Chest X-Rays using Generated Radiologist Reports and Patient Information </h1>\n",
    "</p>"
   ]
  },
  {
   "cell_type": "code",
   "execution_count": null,
   "metadata": {},
   "outputs": [],
   "source": [
    "from IPython.display import display, HTML, clear_output"
   ]
  },
  {
   "cell_type": "code",
   "execution_count": null,
   "metadata": {},
   "outputs": [],
   "source": [
    "!mkdir models/\n",
    "import gdown\n",
    "urls = [\"https://drive.google.com/u/0/uc?export=download&confirm=7rWd&id=12gqE8PZUn6aE0akNpE_dd-xI_bp3LZ20\",\n",
    "        \"https://drive.google.com/u/0/uc?export=download&confirm=7rWd&id=1yS4XJzEI_lIGOraFMoMtqhcCAMxnQzT1\",\n",
    "        \"https://drive.google.com/u/0/uc?export=download&confirm=7rWd&id=1Pzhd5qdXYWX7zNYBidO-WHKT0CJGJF1H\"]\n",
    "outputs = ['models/sum.0.0.pth',\n",
    "           'models/repgen.0.0.pth',\n",
    "           'models/txtcls.pkl']\n",
    "\n",
    "gdown.download(urls[0], outputs[0], quiet=True)\n",
    "gdown.download(urls[1], outputs[1], quiet=True)\n",
    "gdown.download(urls[2], outputs[2], quiet=True)\n",
    "\n",
    "clear_output()"
   ]
  },
  {
   "cell_type": "code",
   "execution_count": null,
   "metadata": {
    "pycharm": {},
    "tags": []
   },
   "outputs": [],
   "source": [
    "#Modules for helper functions\n",
    "from modules.utils.dicom import PILDicom2 #Because PILDicom from fastai doesn't work\n",
    "    \n",
    "#Fast.ai modules\n",
    "from fastai.data.core import Datasets, DataLoaders\n",
    "from fastai.data.block import MultiCategoryBlock\n",
    "from fastai.torch_core import TensorImage, to_np\n",
    "from fastai.text.core import BaseTokenizer\n",
    "from fastai.tabular.core import make_date, cont_cat_split, Categorify, FillMissing, TabularPandas\n",
    "\n",
    "from fastai.vision.augment import Resize, aug_transforms\n",
    "from fastai.data.transforms import IntToFloatTensor, Normalize, EncodedMultiCategorize, ToTensor\n",
    "from fastcore.foundation import L\n",
    "from fastcore.transform import Transform\n",
    "from fastai.text.data import Numericalize, pad_input, SortedDL\n",
    "\n",
    "from fastai.vision.models.xresnet import xresnet18\n",
    "from fastai.text.models.awdlstm import AWD_LSTM\n",
    "from fastai.learner import Learner\n",
    "from fastai.vision.learner import cnn_learner\n",
    "from fastai.tabular.learner import tabular_learner\n",
    "from fastai.text.learner import text_classifier_learner\n",
    "\n",
    "#Modules for R2Gen/multimodal\n",
    "from modules.repgen.dataset import RepGenDataset\n",
    "from modules.repgen.dataloader import create_batch\n",
    "from modules.repgen.model import R2GenModel\n",
    "from modules.repgen.loss import compute_loss\n",
    "from modules.repgen.fastai_utils import rep_gen, SelectPred\n",
    "from modules.repgen.metrics import bleu4\n",
    "\n",
    "#Modules for sum\n",
    "from modules.sum.dataloader import SumDL  \n",
    "import modules.sum.logits as log1\n",
    "from modules.sum.model import SumModel\n",
    "from modules.sum.loss import SumGradientBlending\n",
    "from modules.sum.fastai_utils import sum_splitter\n",
    "from modules.sum.metrics import ap_weighted\n",
    "\n",
    "#Other libraries\n",
    "import re\n",
    "import gc\n",
    "import html\n",
    "import torch\n",
    "import pickle\n",
    "import multiprocessing\n",
    "import numpy as np\n",
    "import pandas as pd\n",
    "import matplotlib.cm as cm\n",
    "import matplotlib.pylab as plt\n",
    "from pathlib import Path\n",
    "from functools import partial\n",
    "from datetime import datetime\n",
    "from types import SimpleNamespace\n",
    "from fastai_minima.optimizer import Adam\n",
    "from ipywidgets import VBox,widgets,Button,Layout,Box,Output,Label,FileUpload\n",
    "import warnings\n",
    "warnings.filterwarnings('ignore')\n",
    "import language_tool_python\n",
    "tool = language_tool_python.LanguageToolPublicAPI('en-US')"
   ]
  },
  {
   "cell_type": "code",
   "execution_count": null,
   "metadata": {
    "tags": []
   },
   "outputs": [],
   "source": [
    "ap_direct = widgets.Label()\n",
    "ap_axial_direct = widgets.Label()\n",
    "ap_lld_direct = widgets.Label()\n",
    "ap_rld_direct = widgets.Label()\n",
    "pa_direct = widgets.Label()\n",
    "pa_lld_direct = widgets.Label()\n",
    "pa_rld_direct = widgets.Label()\n",
    "lat_direct = widgets.Label()\n",
    "ll_direct = widgets.Label()\n",
    "lao_direct = widgets.Label()\n",
    "rao_direct = widgets.Label()\n",
    "swim_direct = widgets.Label()\n",
    "xtab_lat_direct = widgets.Label()\n",
    "lpo_direct = widgets.Label()\n",
    "\n",
    "ap_direct.value = \"Upload any AP views here:\"\n",
    "ap_axial_direct.value = \"Upload any AP axial views here:\"\n",
    "ap_lld_direct.value = \"Upload any AP LLD views here:\"\n",
    "ap_rld_direct.value = \"Upload any AP RLD views here:\"\n",
    "pa_direct.value = \"Upload any PA views here:\"\n",
    "pa_lld_direct.value = \"Upload any PA LLD views here:\"\n",
    "pa_rld_direct.value = \"Upload any PA RLD views here:\"\n",
    "lat_direct.value = \"Upload any lateral views here:\"\n",
    "ll_direct.value = \"Upload any LL views here:\"\n",
    "lao_direct.value = \"Upload any LAO views here:\"\n",
    "rao_direct.value = \"Upload any RAO views here:\"\n",
    "swim_direct.value = \"Upload any swimmers views here:\"\n",
    "xtab_lat_direct.value = \"Upload any xtable lateral views here:\"\n",
    "lpo_direct.value = \"Upload any LPO views here:\"\n",
    "\n",
    "ap_btn_upload = widgets.FileUpload(multiple=True, accept='.dcm')\n",
    "ap_axial_btn_upload = widgets.FileUpload(multiple=True, accept='.dcm') \n",
    "ap_lld_btn_upload = widgets.FileUpload(multiple=True, accept='.dcm')\n",
    "ap_rld_btn_upload = widgets.FileUpload(multiple=True, accept='.dcm') \n",
    "pa_btn_upload = widgets.FileUpload(multiple=True, accept='.dcm') \n",
    "pa_lld_btn_upload = widgets.FileUpload(multiple=True, accept='.dcm') \n",
    "pa_rld_btn_upload = widgets.FileUpload(multiple=True, accept='.dcm') \n",
    "lat_btn_upload = widgets.FileUpload(multiple=True, accept='.dcm') \n",
    "ll_btn_upload = widgets.FileUpload(multiple=True, accept='.dcm') \n",
    "lao_btn_upload = widgets.FileUpload(multiple=True, accept='.dcm') \n",
    "rao_btn_upload = widgets.FileUpload(multiple=True, accept='.dcm') \n",
    "swim_btn_upload = widgets.FileUpload(multiple=True, accept='.dcm') \n",
    "xtab_lat_btn_upload = widgets.FileUpload(multiple=True, accept='.dcm') \n",
    "lpo_btn_upload = widgets.FileUpload(multiple=True, accept='.dcm') \n",
    "\n",
    "gen_report = widgets.Label()\n",
    "id_cond = widgets.Label()\n",
    "gen_sumvis = widgets.Label()\n",
    "summary = widgets.HTML(value='<style>p{word-wrap: break-word}</style><p>')\n",
    "out_pl = widgets.Output()\n",
    "diagnose = widgets.Button(description='Diagnose')"
   ]
  },
  {
   "cell_type": "code",
   "execution_count": null,
   "metadata": {},
   "outputs": [],
   "source": [
    "#Making Path object which contains path to data\n",
    "prep = Path('./data/')\n",
    "prod_path = Path('./sample/')\n",
    "classes=[\"Atelectasis\", \"Cardiomegaly\", \"Consolidation\", \"Edema\", \"Enlarged_Cardiomediastinum\", \"Fracture\", \"Lung_Lesion\", \n",
    "         \"Lung_Opacity\", \"No_Finding\", \"Pleural_Effusion\", \"Pleural_Other\", \"Pneumonia\", \"Pneumothorax\", \"Support_Devices\"]\n",
    "views = ['AP','AP_AXIAL','AP_LLD','AP_RLD','PA','PA_LLD','PA_RLD','LATERAL','LL','LAO','RAO','SWIMMERS','XTABLE_LATERAL','LPO']\n",
    "number_views = [144818, 2, 2, 2, 95145, 2058, 339, 81939, 42371, 5188, 3, 13, 2, 1]\n",
    "workers = multiprocessing.cpu_count()\n",
    "defaults = SimpleNamespace(cpus=workers, cmap='viridis', return_fig=False, silent=False)\n",
    "defaults.device = torch.device('cpu') \n",
    "cpu = torch.device(\"cpu\")\n",
    "beta=2\n",
    "buttons = [ap_direct, ap_btn_upload, ap_axial_direct, ap_axial_btn_upload, ap_lld_direct, ap_lld_btn_upload, ap_rld_direct,\n",
    "           ap_rld_btn_upload, pa_direct, pa_btn_upload, pa_lld_direct, pa_lld_btn_upload, pa_rld_direct, pa_rld_btn_upload,\n",
    "           lat_direct, lat_btn_upload, ll_direct, ll_btn_upload, lao_direct, lao_btn_upload, rao_direct, rao_btn_upload,\n",
    "           swim_direct, swim_btn_upload, xtab_lat_direct, xtab_lat_btn_upload, lpo_direct, lpo_btn_upload, diagnose,\n",
    "           gen_report, id_cond, gen_sumvis, summary, out_pl]"
   ]
  },
  {
   "cell_type": "code",
   "execution_count": null,
   "metadata": {
    "tags": []
   },
   "outputs": [],
   "source": [
    "def on_click_classify(change): \n",
    "    for button in buttons[:-5]: button.close() # Except output buttons\n",
    "    gen_report.value += \"Writing Report...\"\n",
    "    \n",
    "    # Collecting data from buttons\n",
    "    input_views = []\n",
    "    input_paths = []   \n",
    "    idx = -6\n",
    "    upload_buttons = [buttons[:idx][x] for x in list(range(1, len(buttons[:idx]), 2))]\n",
    "    for idx in range(len(upload_buttons)): \n",
    "        button = upload_buttons[idx]\n",
    "        value = {f[\"name\"]: f.content.tobytes() for f in button.value}\n",
    "        data = [f.content.tobytes() for f in button.value]\n",
    "        if data:\n",
    "            input_views.append(views[idx])\n",
    "            for path in range(len(data)):\n",
    "                temp_path = prod_path/str(views[idx]+\"_\"+str(path)+'.dcm')\n",
    "                input_paths.append(temp_path)\n",
    "                with open(temp_path, 'wb') as f: \n",
    "                    f.write(value[list(value.keys())[0]]) \n",
    "    \n",
    "    single_repgen_trainval_sample_path = prep/'trainval_sample_repgen_nomiss.csv'\n",
    "    vocab_path = Path('modules/repgen/vocab.pkl')\n",
    "    trainval_sample_single = pd.read_csv(single_repgen_trainval_sample_path)\n",
    "    trainval_sample_single['images']=prod_path/\"AP_0.dcm\"\n",
    "    trainval_sample_single = trainval_sample_single.drop([10728, 10729])\n",
    "    train_sample_single = trainval_sample_single[trainval_sample_single['split']==False]\n",
    "    val_sample_single = trainval_sample_single[trainval_sample_single['split']==True]\n",
    "    train_sample_single.reset_index(drop=True, inplace=True)\n",
    "    val_sample_single.reset_index(drop=True, inplace=True)\n",
    "    with open(vocab_path, 'rb') as f: vocab = pickle.load(f)    \n",
    "        \n",
    "    df = trainval_sample_single.iloc[:len(input_paths)].copy()\n",
    "    df['images'] = input_paths\n",
    "\n",
    "    isval=False\n",
    "    viewtype='images' \n",
    "    ispred=False\n",
    "    train_sample_dataset = RepGenDataset(train_sample_single,isval, viewtype, ispred, classes) \n",
    "    isval=True\n",
    "    val_sample_dataset = RepGenDataset(val_sample_single,isval, viewtype, ispred, classes) \n",
    "    bs=16\n",
    "    trainval_sample_dls = DataLoaders.from_dsets(train_sample_dataset, val_sample_dataset, bs=bs, create_batch=create_batch, device=cpu, num_workers=workers, shuffle=True)\n",
    "    trainval_sample_dls.valid = trainval_sample_dls.valid.new(shuffle=False)\n",
    "\n",
    "    # Model settings (for visual extractor)\n",
    "    visual_extractor='resnet50' #'resnet101'\n",
    "    pretrained=True\n",
    "    # Model settings (for Transformer)  \n",
    "    num_layers=3 #number of layers of Transformer\n",
    "    d_model=512 #dimension of Transformer\n",
    "    d_ff=512 #dimension of FFN\n",
    "    num_heads=8 #number of heads in Transformer\n",
    "    dropout=0.261 #dropout rate of Transformer\n",
    "    use_bn = 0 #whether to use batch normalization\n",
    "    drop_prob_lm = 0.5958\n",
    "    max_seq_len = 100\n",
    "    att_feat_size = 2048 #dimension of the patch features (d_vf in main.py)\n",
    "    ## Not used in original/current, but included in main.py\n",
    "    #parser.add_argument('--logit_layers', type=int, default=1, help='the number of the logit layer.') \n",
    "    # for Relational Memory    \n",
    "    rm_num_slots=3\n",
    "    rm_num_heads=8\n",
    "    rm_d_model=512\n",
    "    # for Sampling\n",
    "    beam_size = 3 #beam size when beam searching\n",
    "    group_size = 1\n",
    "    sample_n = 1 #sample number per image\n",
    "    sample_method = \"beam_search\" #sample methods to sample a report\n",
    "    temperature = 1.0 #temperature when sampling\n",
    "    output_logsoftmax = 1 #whether to output the probabilities\n",
    "    decoding_constraint = 0\n",
    "    block_trigrams = 1\n",
    "    # More params (not in main.py, but used in original/current)\n",
    "    diversity_lambda = 0.5       \n",
    "    input_encoding_size = 512\n",
    "    suppress_UNK = 0 \n",
    "    length_penalty = ''\n",
    "    mode='forward'\n",
    "    model = R2GenModel(visual_extractor, pretrained, num_layers, d_model, d_ff, num_heads, dropout, rm_num_slots, rm_num_heads,\n",
    "                       rm_d_model, vocab, input_encoding_size, drop_prob_lm, max_seq_len, att_feat_size, use_bn, beam_size,\n",
    "                       group_size, sample_n, sample_method, temperature, output_logsoftmax, decoding_constraint, block_trigrams,\n",
    "                       diversity_lambda, suppress_UNK, length_penalty, mode)\n",
    "    model = model.to(cpu)\n",
    "\n",
    "    wd=3.734e-0\n",
    "\n",
    "    learn = Learner(trainval_sample_dls, model, loss_func=compute_loss, wd=wd, splitter=rep_gen, metrics=[bleu4], cbs=SelectPred)\n",
    "    ve_params = list(map(id, model.visual_extractor.parameters()))                                                  \n",
    "    ed_params = filter(lambda x: id(x) not in ve_params, model.parameters())\n",
    "    opt_func = Adam([{'params': model.visual_extractor.parameters()},\n",
    "                   {'params': ed_params}],\n",
    "                   lr = learn.lr,\n",
    "                   betas=(0.9, 0.98),\n",
    "                   weight_decay=wd, \n",
    "                   amsgrad=True)\n",
    "    learn.opt = opt_func\n",
    "\n",
    "    learn.load(\"repgen.0.0\", device=cpu)\n",
    "    learn.model.mode='sample'\n",
    "    def passfunc(arg): return arg #Make last arg for learn.predict to not decode anything\n",
    "    def decode(pred): #Convert idx_report to report\n",
    "        words = [] #For every word in report (size rep_len)\n",
    "        for report in pred:\n",
    "            for word in report: #For each word in report\n",
    "                txtword = vocab[word] #word = index for vocab\n",
    "                if txtword not in [word for word in vocab if word[:2]==\"xx\"]: words.append(txtword) \n",
    "        return \" \".join(words)\n",
    "    learn.dls.decode = passfunc\n",
    "    learn.dls.decode_batch = passfunc\n",
    "\n",
    "    rep_input_view = \"\"\n",
    "    if len(input_views)>1:\n",
    "        for i in input_views:\n",
    "            if rep_input_view==\"\": rep_input_view = i\n",
    "            else: \n",
    "                if number_views[views.index(rep_input_view)] < number_views[views.index(i)]: \n",
    "                    rep_input_view = i\n",
    "    else: rep_input_view = input_views[0]\n",
    "        \n",
    "    image = \"\"\n",
    "    for img in input_paths:\n",
    "        temp = str(img).split(\".\")[0].split(\"/\")[1].split(\"_\")[:-1]\n",
    "        if len(temp)==1: \n",
    "            if temp[0]==rep_input_view: \n",
    "                image = img\n",
    "                break\n",
    "        else: \n",
    "            if \"_\".join(temp)==rep_input_view: \n",
    "                image = img\n",
    "                break\n",
    "    \n",
    "    idx = df[df['images']==image].index[0]\n",
    "    ispred=True\n",
    "    pred_dataset = RepGenDataset(df.iloc[idx:idx+1], isval, 'images', ispred, classes) #\n",
    "    gts, rep, _ = learn.predict(pred_dataset[idx])\n",
    "    if decode(rep)[-2:] != \" .\" or decode(rep)[-2:] != \". \": report = decode(rep) + ' . '\n",
    "    else: report = decode(rep)\n",
    "    df['reports'] = report\n",
    "\n",
    "    del trainval_sample_dls\n",
    "    del model\n",
    "    del learn\n",
    "    del passfunc\n",
    "    gc.collect()\n",
    "\n",
    "    month = str(datetime.now().month)\n",
    "    if int(month) < 10: month = \"0\"+str(month)\n",
    "    day = str(datetime.now().day)\n",
    "    if int(day) < 10: day = \"0\"+str(day)\n",
    "    df['StudyElapsed'] = str(datetime.now().year)+'-'+month+'-'+day\n",
    "    make_date(df, 'StudyElapsed')\n",
    "    df['StudyElapsed'].values.astype(np.int64) // 10 ** 9\n",
    "    df['Minutes'] = datetime.now().minute\n",
    "    df['Hour'] = datetime.now().hour\n",
    "    df['Seconds'] = datetime.now().second\n",
    "    df['StudyWeek'] = datetime.now().isocalendar()[1]\n",
    "    df['StudyDay'] = datetime.now().day\n",
    "    df['StudyDayofweek'] = datetime.now().isocalendar()[2]\n",
    "    df['StudyDayofyear'] = datetime.now().timetuple().tm_yday\n",
    "    df['StudyElapsed'] = df['StudyElapsed'].values.astype(np.int64) // 10 ** 9\n",
    "    \n",
    "    gen_report.close()\n",
    "    id_cond.value = \"Identifying Conditions...\"\n",
    "\n",
    "    size=224\n",
    "    seq_len=72\n",
    "    bs=16\n",
    "    val_bs=len(val_sample_single)\n",
    "    test_bs=len(df)\n",
    "    train_dls = []\n",
    "    val_dls = []\n",
    "    test_dls = []\n",
    "\n",
    "    with open(Path('./modules/txtcls/vocab.pkl'), 'rb') as f: vocab = pickle.load(f) \n",
    "    cont_nn,cat_nn = cont_cat_split(trainval_sample_single, max_card=365, dep_var=classes)\n",
    "    for frame in [trainval_sample_single, df]:\n",
    "        frame[['Minutes', \n",
    "            'Hour', \n",
    "            'Seconds', \n",
    "            'StudyWeek', \n",
    "            'StudyDay', \n",
    "            'StudyDayofweek', \n",
    "            'StudyDayofyear',\n",
    "            'StudyElapsed']] = frame[['Minutes', \n",
    "                                     'Hour', \n",
    "                                     'Seconds', \n",
    "                                     'StudyWeek', \n",
    "                                     'StudyDay', \n",
    "                                     'StudyDayofweek', \n",
    "                                     'StudyDayofyear',\n",
    "                                     'StudyElapsed']].astype('int32')\n",
    "        \n",
    "    trainval_imgs = list(trainval_sample_single['images'])\n",
    "    test_imgs = list(df['images'])\n",
    "    \n",
    "    def get_names(pand):\n",
    "        fnames = list(pand['reports'])\n",
    "        fnames = [[text] for text in fnames]\n",
    "        return L(fnames)\n",
    "    trainval_txts = get_names(trainval_sample_single)\n",
    "    test_txts = get_names(df)\n",
    "    \n",
    "    def formatting(tokens): return list(tokens)[0]\n",
    "    tfm = Transform(formatting)\n",
    "    \n",
    "    def get_labels(fname): return [0]*13 + [1]\n",
    "        \n",
    "    def vis_dls(bs, name_list):\n",
    "        imagenet_stats = ([0.485, 0.456, 0.406], [0.229, 0.224, 0.225])\n",
    "        dsets = Datasets(name_list, \n",
    "                         [[PILDicom2.create], \n",
    "                          [get_labels, EncodedMultiCategorize(vocab=classes)]],\n",
    "                         splits=None)\n",
    "        item_tfms=[Resize(460), ToTensor]\n",
    "        batch_tfms=[IntToFloatTensor(div=2**16-1), Normalize.from_stats(*imagenet_stats), *aug_transforms(size=size)]\n",
    "        return dsets.dataloaders(after_item=item_tfms, after_batch=batch_tfms, bs=bs, num_workers=workers)\n",
    "        \n",
    "    def txt_dls(bs, seq_len, name_list):\n",
    "        dsets = Datasets(name_list, \n",
    "                         [[BaseTokenizer(), tfm, Numericalize(vocab=vocab)], \n",
    "                          [get_labels, EncodedMultiCategorize(vocab=classes)]],\n",
    "                         splits=None)\n",
    "        return dsets.dataloaders(bs=bs, seq_len=seq_len, num_workers=workers, before_batch=pad_input, dl_type=SortedDL)\n",
    "\n",
    "    def tab_dls(bs, path):\n",
    "        procs_nn = [Categorify, FillMissing, Normalize]\n",
    "        return TabularPandas(path, procs_nn, None, cont_nn, splits=None, y_block=MultiCategoryBlock(encoded=True, vocab=classes), \n",
    "                              y_names=classes).dataloaders(bs, num_workers=workers)\n",
    "        \n",
    "    def get_dls(istest):\n",
    "        if istest:\n",
    "            test_dls.append(vis_dls(test_bs, test_imgs)[0].to(\"cpu\"))\n",
    "            test_dls.append(txt_dls(test_bs, seq_len, test_txts)[0].to(\"cpu\"))\n",
    "            test_dls.append(tab_dls(test_bs, df)[0].to(\"cpu\"))\n",
    "            return SumDL(*test_dls, device=cpu)\n",
    "        else:\n",
    "            train_dls.append(vis_dls(bs, trainval_imgs)[0])\n",
    "            val_dls.append(vis_dls(val_bs, trainval_imgs)[1])\n",
    "            train_dls.append(txt_dls(bs, seq_len, trainval_txts)[0])\n",
    "            val_dls.append(txt_dls(val_bs, seq_len, trainval_txts)[1])\n",
    "            train_dls.append(tab_dls(bs, train_sample_single)[0])\n",
    "            val_dls.append(tab_dls(val_bs, val_sample_single)[1])\n",
    "            return DataLoaders(SumDL(*train_dls, device=cpu), SumDL(*val_dls, device=cpu))   \n",
    "    mixed_dls = get_dls(False)\n",
    "\n",
    "    def calcHiddenLayer(data, alpha, numHiddenLayers):\n",
    "        i, o = len(list(trainval_sample_single.columns)[2:10]), len(classes)\n",
    "        io = i+o\n",
    "        return [(len(data)//(alpha*(io)))//numHiddenLayers]*numHiddenLayers\n",
    "    \n",
    "    drop_mult=0.3263\n",
    "    model=xresnet18\n",
    "    alpha=2\n",
    "    numHiddenLayers=2\n",
    "    layers=calcHiddenLayer(train_dls[-1], alpha, numHiddenLayers)\n",
    "    txtcls_learn = text_classifier_learner(txt_dls(bs, seq_len, trainval_txts), AWD_LSTM, drop_mult=drop_mult)\n",
    "\n",
    "    sum_model = SumModel(cnn_learner(vis_dls(bs, trainval_imgs), model).model,\n",
    "                     txtcls_learn.model, \n",
    "                     tabular_learner(tab_dls(bs, trainval_sample_single), layers=layers).model, \n",
    "                     len(classes))\n",
    "\n",
    "    # Set loss_scale for each loss\n",
    "    weights = [3/17, 9/17, 1/17, 4/17]\n",
    "    loss_scale = 1.07\n",
    "    loss = SumGradientBlending(loss_scale, *weights)\n",
    "    \n",
    "    thresh=0.43\n",
    "    \n",
    "    ap_w = partial(ap_weighted, weights=weights)\n",
    "    metrics = [ap_w]\n",
    "\n",
    "    sum_learn = Learner(mixed_dls.to(\"cpu\"), sum_model.to(\"cpu\"), loss, splitter=sum_splitter, metrics=metrics)\n",
    "    sum_learn.freeze_to(-4)\n",
    "    name = 'sum.0.0'\n",
    "    sum_learn.load(name, device=cpu)\n",
    "    sum_learn.dls = sum_learn.dls.to(cpu)\n",
    "    sum_learn.model = sum_learn.model.to(cpu)\n",
    "\n",
    "    pred_mixed_dls = get_dls(True)\n",
    "    preds,_ = sum_learn.get_preds(dl=pred_mixed_dls)\n",
    "    \n",
    "    def decode_prob(preds):\n",
    "        all_inp=0\n",
    "        preds = torch.stack(preds)\n",
    "        for weight in range(len(weights)): all_inp += preds[weight] * weights[weight]\n",
    "        preds = all_inp/len(weights)\n",
    "        preds = preds.sigmoid()\n",
    "        return preds\n",
    "    def decode_rep(preds, thresh=0.5):\n",
    "        preds = decode_prob(preds)\n",
    "        preds[preds>=thresh] = 1\n",
    "        preds[preds<thresh] = 0\n",
    "        return preds\n",
    "\n",
    "    confs = decode_prob(preds)\n",
    "    class_preds = decode_rep(preds, thresh)\n",
    "    \n",
    "    sum_input_views = []\n",
    "    avg_num_view = 2\n",
    "    if len(input_views)>avg_num_view: #Because most studies have two views\n",
    "        for i in input_views:\n",
    "            if len(sum_input_views)<avg_num_view: sum_input_views.append(i)\n",
    "            else: \n",
    "                compare = [number_views[views.index(sum_input_views[j])] for j in range(avg_num_view)]\n",
    "                if number_views[views.index(i)] < min(compare): \n",
    "                    sum_input_views[compare.index(min(compare))] = i\n",
    "    else: sum_input_views.extend(input_views)\n",
    "    num_view = [number_views[views.index(view)] for view in sum_input_views]\n",
    "    sum_input_views = [x for _, x in sorted(zip(num_view, sum_input_views))]\n",
    "    \n",
    "    sum_input_imgs = []\n",
    "    sum_input_idxs = [] #Images that are of view with more examples in front, know with less_view_count\n",
    "    less_view_count = 0\n",
    "    for img in input_paths:\n",
    "        temp = str(img).split(\".\")[0].split(\"/\")[1].split(\"_\")[:-1]\n",
    "        if len(temp)==1: compare = temp[0]\n",
    "        else: compare = \"_\".join(temp)\n",
    "        if compare == sum_input_views[0]: \n",
    "            sum_input_imgs.append(img)\n",
    "            sum_input_idxs.append(df[df['images']==img].index[0])\n",
    "        if len(sum_input_views)>1:\n",
    "            if compare == sum_input_views[1]: \n",
    "                sum_input_imgs.insert(less_view_count, img)\n",
    "                sum_input_idxs.insert(less_view_count, df[df['images']==img].index[0])\n",
    "                less_view_count+=1\n",
    "                \n",
    "    dl_list_idxs = []\n",
    "    for dl in test_dls: \n",
    "        try: dl_list_idxs.append(dl.get_idxs())\n",
    "        except: \n",
    "            temp = []\n",
    "            for idx in dl.get_idxs(): temp.append(idx)\n",
    "            dl_list_idxs.append(temp)\n",
    "    dl_list_idxs = dl_list_idxs[0]   \n",
    "    \n",
    "    pred_list_idxs = []\n",
    "    for i in sum_input_idxs: pred_list_idxs.append(dl_list_idxs.index(i))\n",
    "\n",
    "    def get_results(is_pos):\n",
    "        results = []\n",
    "        for i in pred_list_idxs:\n",
    "            temp = []\n",
    "            temp1 = []\n",
    "            for j in range(len(class_preds[i])):\n",
    "                if class_preds[i][j]==is_pos: \n",
    "                    temp.append(classes[j])\n",
    "                    if is_pos: temp1.append(confs[i][j].item())\n",
    "                    else: temp1.append(1 - confs[i][j].item())\n",
    "            results.append({temp[i]: temp1[i] for i in range(len(temp))})\n",
    "        return results\n",
    "    \n",
    "    def get_summary():\n",
    "        neg_results = get_results(0)\n",
    "        pos_results = get_results(1)\n",
    "        confs_select_neg, class_names_neg, confs_select_pos, class_names_pos = [], [], [], []\n",
    "        is_single_img = True if len(pred_list_idxs)<2 else False\n",
    "         \n",
    "        if is_single_img:\n",
    "            def fill_lists(results, select, names):\n",
    "                for condition in classes:\n",
    "                    for dic in results:\n",
    "                        if condition in dic.keys() and condition not in names: \n",
    "                            names.append(condition)\n",
    "                            if len(names) > len(select): select.append(dic[condition])\n",
    "                            else: \n",
    "                                if dic[condition] > select[-1]: select[-1]=dic[condition]\n",
    "                return select, names\n",
    "            confs_select_neg, class_names_neg = fill_lists(neg_results, confs_select_neg, class_names_neg)\n",
    "            confs_select_pos, class_names_pos = fill_lists(pos_results, confs_select_pos, class_names_pos)\n",
    "        else: #Majority vote -> Max Conf -> Pos just to be safe\n",
    "            for condition in classes:\n",
    "                pos_count = np.sum(np.array([condition in dic.keys() for dic in pos_results]))\n",
    "                neg_count = np.sum(np.array([condition in dic.keys() for dic in neg_results]))\n",
    "                def add_to_lists(results, select, names):\n",
    "                    for dic in results:\n",
    "                        if len(names) > len(select): select.append(dic[condition])\n",
    "                        else: \n",
    "                            if dic[condition] > select[-1]: select[-1]=dic[condition]\n",
    "                    return select, names\n",
    "                if pos_count > neg_count:\n",
    "                    class_names_pos.append(condition)\n",
    "                    confs_select_pos, class_names_pos = add_to_lists(pos_results, confs_select_pos, class_names_pos)\n",
    "                elif pos_count < neg_count:\n",
    "                    class_names_neg.append(condition)\n",
    "                    confs_select_neg, class_names_neg = add_to_lists(neg_results, confs_select_neg, class_names_neg)\n",
    "                else:\n",
    "                    max_pos_conf = 0\n",
    "                    max_neg_conf = 0\n",
    "                    for dic in pos_results:\n",
    "                        if dic[condition] > max_pos_conf: max_pos_conf = dic[condition]\n",
    "                    for dic in neg_results:\n",
    "                        if dic[condition] > max_neg_conf: max_neg_conf = dic[condition]\n",
    "                    if max_pos_conf >= max_neg_conf:\n",
    "                        class_names_pos.append(condition)\n",
    "                        confs_select_pos, class_names_pos = add_to_lists(pos_results, confs_select_pos, class_names_pos)\n",
    "                    elif max_pos_conf > max_neg_conf:\n",
    "                        class_names_neg.append(condition)\n",
    "                        confs_select_neg, class_names_neg = add_to_lists(neg_results, confs_select_neg, class_names_neg)\n",
    "        return confs_select_pos, class_names_pos, confs_select_neg, class_names_neg  \n",
    "    \n",
    "    confs_select, class_names, confs_select_neg, class_names_neg = get_summary()\n",
    "    \n",
    "    class_names = [class_names for _, class_names in sorted(zip(confs_select, class_names))]\n",
    "    confs_select = sorted(confs_select, reverse=True)\n",
    "    class_names_neg = [class_names_neg for _, class_names_neg in sorted(zip(confs_select_neg, class_names_neg), reverse=True)]\n",
    "    confs_select_neg = sorted(confs_select_neg, reverse=True)\n",
    "\n",
    "    id_cond.close()\n",
    "    gen_sumvis.value += \"Summarizing Diagnosis...\"\n",
    "\n",
    "    max_memory_num_imgs = 2\n",
    "    idxs = []\n",
    "    for condition in class_names:\n",
    "        pos_results = get_results(1)\n",
    "        for dic in range(len(pos_results)):\n",
    "            if condition in pos_results[dic].keys(): \n",
    "                idxs.append(dic)\n",
    "                if len(idxs)==max_memory_num_imgs: break\n",
    "    sum_input_imgs = [sum_input_imgs[idx] for idx in idxs]\n",
    "    class_idxes = [classes.index(i) for i in class_names]\n",
    "    \n",
    "    max_mem_num_cond = 3\n",
    "    if len(class_idxes)>max_mem_num_cond: \n",
    "        class_idxes = class_idxes[:max_mem_num_cond]\n",
    "        class_names_slice = class_names[:max_mem_num_cond]\n",
    "    \n",
    "    def show_gradcam(learn, x, thresh):\n",
    "        class Hook():\n",
    "            def __init__(self, m): self.hook = m.register_forward_hook(self.hook_func)   \n",
    "            def hook_func(self, m, i, o): self.stored = o.detach().clone()\n",
    "            def __enter__(self, *args): return self\n",
    "            def __exit__(self, *args): self.hook.remove()\n",
    "        class HookBwd():\n",
    "            def __init__(self, m):\n",
    "                self.hook = m.register_backward_hook(self.hook_func)   \n",
    "            def hook_func(self, m, gi, go): self.stored = go[0].detach().clone()\n",
    "            def __enter__(self, *args): return self\n",
    "            def __exit__(self, *args): self.hook.remove()\n",
    "        for img in sum_input_imgs:\n",
    "            def cmap(class_idx):\n",
    "                with HookBwd(learn.model.models[0][0]) as hookg: \n",
    "                    with Hook(learn.model.models[0][0]) as hook:\n",
    "                        output = learn.model.eval()(*x[:-1])\n",
    "                        act = hook.stored\n",
    "                    output[0][0][class_idx].backward()\n",
    "                    grad = hookg.stored\n",
    "                return act, grad\n",
    "            for idx in class_idxes:\n",
    "                act, grad = cmap(idx)\n",
    "                w = grad[0].mean(dim=[1,2], keepdim=True)\n",
    "                cam_map = (w * act[0]).sum(0)\n",
    "                x_dec = TensorImage(PILDicom2.create(img))\n",
    "                _,ax = plt.subplots()\n",
    "                x_dec.show(ctx=ax, cmap='gray')\n",
    "                ax.imshow(cam_map.detach().cpu(), alpha=0.6, extent=(0,x_dec.shape[0],x_dec.shape[1],0), interpolation='bilinear', cmap='magma');\n",
    "                plt.savefig(Path(str(img)+\",\"+classes[idx]+'.png'), bbox_inches='tight')\n",
    "                \n",
    "    a = pred_mixed_dls.one_batch()\n",
    "    show_gradcam(sum_learn, a, thresh)\n",
    "    \n",
    "    def display_both(learn, x, thresh):\n",
    "        data = pd.DataFrame(columns = ['Conditions'])\n",
    "        for idx in class_idxes:\n",
    "            for i in sum_input_imgs:\n",
    "                data.loc[class_idxes.index(idx), str(i).split(\"/\")[1].split(\".\")[0]] = str(i)+\",\"+classes[idx]+'.png'\n",
    "            data.loc[class_idxes.index(idx), 'Conditions'] = classes[idx]\n",
    "        data.set_index('Conditions', inplace=True)\n",
    "        \n",
    "        # Converting links to html tags\n",
    "        def path_to_image_html(path): \n",
    "            img = str(path).split(\",\")[0]\n",
    "            x_dec = TensorImage(PILDicom2.create(img))\n",
    "            return '<img src=\"'+ path + '\" width=\"'+ str(int(x_dec.shape[0])) + '\" height=\"'+ str(int(x_dec.shape[1])) + '\">'\n",
    "\n",
    "        # Rendering the dataframe as HTML table\n",
    "        data.to_html(escape=False, formatters={str(img).split(\"/\")[1].split(\".\")[0]:path_to_image_html for img in sum_input_imgs})\n",
    "        out_pl.clear_output()\n",
    "        gen_sumvis.close()\n",
    "        \n",
    "        summary.value += \"Generated Radiologist Report:<br/>\"\n",
    "        b = df.loc[0, 'reports'].split(\" . \")\n",
    "        views1 = [view.lower() for view in views]\n",
    "        rep = dict(zip(views1, views))\n",
    "        def replace_all(text, dic):\n",
    "            for i, j in dic.items(): text = text.replace(\" \"+i, \" \"+j).replace(i+\" \", j+\" \").replace(\" \"+i+\" \", \" \"+j+\" \")\n",
    "            return text\n",
    "        c = [replace_all(x, rep) for x in b]\n",
    "        d = \". \".join(c)\n",
    "        e = d[:-1]\n",
    "        text = re.sub(r'(\\s)xx\\w+', \"\", e, flags=re.IGNORECASE)   \n",
    "        if text[-1]!=\".\": text = text + \".\"\n",
    "        #text = tool.correct(text)\n",
    "        \n",
    "        summary.value += text + \"<br/><br/>\"\n",
    "        \n",
    "        summary.value += \"Condition Summary:<br/>\"\n",
    "        summary.value += \"Given a confidence threshold of \"+str(thresh)+\",<br/> which is the minimum confidence the model must have in order to give a positive diagnosis for a disease,<br/> and is the ideal confidence for maximizing the F\" + str(beta) + \" score,<br/>\"\n",
    "        if len(class_names)<1:\n",
    "            summary.value += \"this patient's condition cannot be determined. Please contact them to collect another set of x-rays.<br/>\"\n",
    "        else:\n",
    "            summary.value += \"this patient most likely needs to get checked out for the following conditions:<br/>\"\n",
    "            if len(class_names)<2:\n",
    "                summary.value += class_names[0] + \" \" + f\"({confs_select[0]*100:.2f}% confident).<br/>\"\n",
    "            else:\n",
    "                for idx in range(len(class_names)-1):\n",
    "                    summary.value += class_names[idx] + \" \" + f\"({confs_select[idx]*100:.2f}% confident),<br/>\"\n",
    "                temp_idx = len(class_names)-1\n",
    "                summary.value += \"and \" + class_names[temp_idx] + \" \" + f\"({confs_select[temp_idx]*100:.2f}% confident).<br/>\"\n",
    "            if len(class_names)<len(classes):\n",
    "                summary.value += \"<br/>This patient most likely doesn't need to get checked out for the following conditions:<br/>\"\n",
    "                if len(class_names_neg)<2:\n",
    "                    summary.value += class_names_neg[0] + \" \" + f\"({confs_select_neg[0]*100:.2f}% confident).<br/>\"\n",
    "                else:    \n",
    "                    for idx in range(len(class_names_neg)-1):\n",
    "                        summary.value += class_names_neg[idx] + \" \" + f\"({confs_select_neg[idx]*100:.2f}% confident),<br/>\"\n",
    "                    temp_idx = len(class_names_neg)-1\n",
    "                    summary.value += \"and \" + class_names_neg[temp_idx] + \" \" + f\"({confs_select_neg[temp_idx]*100:.2f}% confident).<br/>\"\n",
    "        summary.value += ' </p>'\n",
    "        with out_pl: display(HTML(data.to_html(escape=False,formatters={str(img).split(\"/\")[1].split(\".\")[0]:path_to_image_html for img in sum_input_imgs}))) \n",
    "    display_both(sum_learn, a, thresh)\n",
    "    #\"\"\"            \n",
    "diagnose.on_click(on_click_classify)"
   ]
  },
  {
   "cell_type": "code",
   "execution_count": null,
   "metadata": {},
   "outputs": [],
   "source": [
    "VBox(buttons, layout=Layout(width='100%', display='flex', align_items='center'))"
   ]
  }
 ],
 "metadata": {
  "kernelspec": {
   "display_name": "chexray",
   "language": "python",
   "name": "chexray"
  },
  "language_info": {
   "codemirror_mode": {
    "name": "ipython",
    "version": 3
   },
   "file_extension": ".py",
   "mimetype": "text/x-python",
   "name": "python",
   "nbconvert_exporter": "python",
   "pygments_lexer": "ipython3",
   "version": "3.8.13"
  },
  "vscode": {
   "interpreter": {
    "hash": "35da4fb0bf3785c7406080b8e9c04c06bc64d3dd9f65ffc366bc362a13d2b332"
   }
  },
  "widgets": {
   "application/vnd.jupyter.widget-state+json": {
    "state": {
     "00a40232141e41eeb4fb4ae6220a1eea": {
      "model_module": "@jupyter-widgets/base",
      "model_module_version": "2.0.0",
      "model_name": "LayoutModel",
      "state": {}
     },
     "060dc642d8014ea8b33bc21da2dc9c1f": {
      "model_module": "@jupyter-widgets/controls",
      "model_module_version": "2.0.0",
      "model_name": "LabelStyleModel",
      "state": {
       "description_width": "",
       "font_family": null,
       "font_size": null,
       "font_style": null,
       "font_variant": null,
       "font_weight": null,
       "text_color": null,
       "text_decoration": null
      }
     },
     "0a1457260219474e845e4852fd6b5a11": {
      "model_module": "@jupyter-widgets/controls",
      "model_module_version": "2.0.0",
      "model_name": "VBoxModel",
      "state": {
       "children": [
        "IPY_MODEL_7f4326f53ffb407ba2638d2c0615105c",
        "IPY_MODEL_5c1ae6c386e943dc8938f99d79f0a108",
        "IPY_MODEL_2af0dbacde424adfbc9e951cc6d8084f",
        "IPY_MODEL_7a25a98c6fc14156aaef595df54b8392",
        "IPY_MODEL_78e5632b249d4fa5a8cc2822502ca368",
        "IPY_MODEL_921dbe0f4c974fa3bf5d9aaea2aabe24",
        "IPY_MODEL_2c518cb2e2754ffe80e18bb8ac569012",
        "IPY_MODEL_c1f6c658b237486887de6ef60c38f53f",
        "IPY_MODEL_413aa44e79ef4430a39d52d10b9e8ed1",
        "IPY_MODEL_b09696383a8c47348e251c48d905d332",
        "IPY_MODEL_13356673e2c44f74b1ee7b1c5f5b3e64",
        "IPY_MODEL_4a9385d9a55b49b58a38ce7755d0557b",
        "IPY_MODEL_83b14b220e4b458da750c01557dffa27",
        "IPY_MODEL_c1682e57a5b24cf29c97d5839105517f",
        "IPY_MODEL_25701afdfed54285a3287a274380adef",
        "IPY_MODEL_2fc45973ba8045f29d0979948cafa6f6",
        "IPY_MODEL_82da63cb25104e5a9f8e994c0e6ab3c7",
        "IPY_MODEL_aa1cf90062834fcd966c90faecb34939",
        "IPY_MODEL_71f403d106294c469a2357a3582c8c66",
        "IPY_MODEL_c5efca7eb89240c99ce12df40d9e53da",
        "IPY_MODEL_685c7da0ba8240cf9bb0cda8ac48ffd8",
        "IPY_MODEL_ba090ba8e2064942a779943d8b90f196",
        "IPY_MODEL_1a1727559b594666a4f00e43eceefe73",
        "IPY_MODEL_63979d52e1c24763b0db17fcc48985dc",
        "IPY_MODEL_e8c6a8d8b8e3475e93c810e4c9d7bf50",
        "IPY_MODEL_0fdaf203b46c4c6e9fd9c4ae98da690c",
        "IPY_MODEL_a96d074dde8541898f6746b8b6d38b87",
        "IPY_MODEL_44efd1eacaf74e15bffbdfba5e8ef976",
        "IPY_MODEL_27f972b819d84831bbbd8b2309ae95c6",
        "IPY_MODEL_d84f20a6b37f4bcf9dd3938bcf7a9101",
        "IPY_MODEL_167b972c6e27476c92b541f71e7ad71e",
        "IPY_MODEL_597e0d815fbb4e7cbc20a6dea7743ada",
        "IPY_MODEL_6d0dc8f4318442acaca4640c29f46db9",
        "IPY_MODEL_47f7cee012f34c94907ba3b0605618bf"
       ],
       "layout": "IPY_MODEL_bc4108993f0e40f395ac86bf4da2ba66"
      }
     },
     "0a666d03f8104a9c9a08d88ccbaf8777": {
      "model_module": "@jupyter-widgets/base",
      "model_module_version": "2.0.0",
      "model_name": "LayoutModel",
      "state": {}
     },
     "0ac4ce532dae4eb2b9475635fd66c019": {
      "model_module": "@jupyter-widgets/base",
      "model_module_version": "2.0.0",
      "model_name": "LayoutModel",
      "state": {}
     },
     "0b1ce2c5d1ed419eb37f52eb9ca63602": {
      "model_module": "@jupyter-widgets/controls",
      "model_module_version": "2.0.0",
      "model_name": "VBoxModel",
      "state": {
       "children": [
        "IPY_MODEL_e4d514c9b72f4a62998a09634c83d0c9",
        "IPY_MODEL_69670a91a109449aa621e855d88b50da"
       ],
       "layout": "IPY_MODEL_e0175b08ad9948f7a6af43c88d9bf0fe"
      }
     },
     "0f83a828f2e44ed88dfdc03389d49b80": {
      "model_module": "@jupyter-widgets/controls",
      "model_module_version": "2.0.0",
      "model_name": "LabelStyleModel",
      "state": {
       "description_width": "",
       "font_family": null,
       "font_size": null,
       "font_style": null,
       "font_variant": null,
       "font_weight": null,
       "text_color": null,
       "text_decoration": null
      }
     },
     "0fdaf203b46c4c6e9fd9c4ae98da690c": {
      "model_module": "@jupyter-widgets/controls",
      "model_module_version": "2.0.0",
      "model_name": "FileUploadModel",
      "state": {
       "accept": ".dcm",
       "description_allow_html": false,
       "layout": "IPY_MODEL_28dea18463e54c33aefa709123be48ef",
       "multiple": true,
       "style": "IPY_MODEL_ab002dbe3a6a4e2ba12f7f50014da5ab"
      }
     },
     "1051631a20234b578af9a35cf177e33b": {
      "model_module": "@jupyter-widgets/base",
      "model_module_version": "2.0.0",
      "model_name": "LayoutModel",
      "state": {}
     },
     "13356673e2c44f74b1ee7b1c5f5b3e64": {
      "model_module": "@jupyter-widgets/controls",
      "model_module_version": "2.0.0",
      "model_name": "LabelModel",
      "state": {
       "layout": "IPY_MODEL_d00b3c0599274b00b7a19e05fa850d7d",
       "style": "IPY_MODEL_7478ec92724542e68b44758995042b62",
       "value": "Upload any PA LLD views here:"
      }
     },
     "167b972c6e27476c92b541f71e7ad71e": {
      "model_module": "@jupyter-widgets/controls",
      "model_module_version": "2.0.0",
      "model_name": "LabelModel",
      "state": {
       "layout": "IPY_MODEL_1ce4c9a8ca804e1d9b9279219d5cb04a",
       "style": "IPY_MODEL_6d552378ff064d908cc1c8f2189be657"
      }
     },
     "1a1727559b594666a4f00e43eceefe73": {
      "model_module": "@jupyter-widgets/controls",
      "model_module_version": "2.0.0",
      "model_name": "LabelModel",
      "state": {
       "layout": "IPY_MODEL_daa3da361ca14cb2b894d110601261fb",
       "style": "IPY_MODEL_0f83a828f2e44ed88dfdc03389d49b80",
       "value": "Upload any swimmers views here:"
      }
     },
     "1ae4275cdd17475e98291e29f001e184": {
      "model_module": "@jupyter-widgets/controls",
      "model_module_version": "2.0.0",
      "model_name": "LabelStyleModel",
      "state": {
       "description_width": "",
       "font_family": null,
       "font_size": null,
       "font_style": null,
       "font_variant": null,
       "font_weight": null,
       "text_color": null,
       "text_decoration": null
      }
     },
     "1ce4c9a8ca804e1d9b9279219d5cb04a": {
      "model_module": "@jupyter-widgets/base",
      "model_module_version": "2.0.0",
      "model_name": "LayoutModel",
      "state": {}
     },
     "25701afdfed54285a3287a274380adef": {
      "model_module": "@jupyter-widgets/controls",
      "model_module_version": "2.0.0",
      "model_name": "LabelModel",
      "state": {
       "layout": "IPY_MODEL_74dd02cadf6e492489f9329fd4d69cfe",
       "style": "IPY_MODEL_efe06c8654f24c868df43c849a3738f4",
       "value": "Upload any lateral views here:"
      }
     },
     "26b2b913b7c54b4ba5ab832d697a8e35": {
      "model_module": "@jupyter-widgets/base",
      "model_module_version": "2.0.0",
      "model_name": "LayoutModel",
      "state": {}
     },
     "27f972b819d84831bbbd8b2309ae95c6": {
      "model_module": "@jupyter-widgets/controls",
      "model_module_version": "2.0.0",
      "model_name": "ButtonModel",
      "state": {
       "description": "Diagnose",
       "layout": "IPY_MODEL_ac803736381d48aa9b598e77945fc070",
       "style": "IPY_MODEL_7ad0ff84cff14c6caabbb28b754f15e7",
       "tooltip": null
      }
     },
     "28dea18463e54c33aefa709123be48ef": {
      "model_module": "@jupyter-widgets/base",
      "model_module_version": "2.0.0",
      "model_name": "LayoutModel",
      "state": {}
     },
     "2a5b316ec8814fc7a43bbbc747e00f2c": {
      "model_module": "@jupyter-widgets/base",
      "model_module_version": "2.0.0",
      "model_name": "LayoutModel",
      "state": {}
     },
     "2af0dbacde424adfbc9e951cc6d8084f": {
      "model_module": "@jupyter-widgets/controls",
      "model_module_version": "2.0.0",
      "model_name": "LabelModel",
      "state": {
       "layout": "IPY_MODEL_3ecc2887d30345f5b1b4b11ffb940c4d",
       "style": "IPY_MODEL_ceff10224aab44d0a006393cdc01fd02",
       "value": "Upload any AP axial views here:"
      }
     },
     "2c2ce1bb3b784b0cb33e75630be862b5": {
      "model_module": "@jupyter-widgets/controls",
      "model_module_version": "2.0.0",
      "model_name": "VBoxModel",
      "state": {
       "children": [
        "IPY_MODEL_7f4326f53ffb407ba2638d2c0615105c"
       ],
       "layout": "IPY_MODEL_4acc27aa94cf404bac502bb892492fbd"
      }
     },
     "2c518cb2e2754ffe80e18bb8ac569012": {
      "model_module": "@jupyter-widgets/controls",
      "model_module_version": "2.0.0",
      "model_name": "LabelModel",
      "state": {
       "layout": "IPY_MODEL_904aa98934da4b71a4564f5a8d7f90a6",
       "style": "IPY_MODEL_42a7e3ada09c410ea3186c19941590c7",
       "value": "Upload any AP RLD views here:"
      }
     },
     "2f4ee202696347ffabcff54916f6094a": {
      "model_module": "@jupyter-widgets/controls",
      "model_module_version": "2.0.0",
      "model_name": "LabelStyleModel",
      "state": {
       "description_width": "",
       "font_family": null,
       "font_size": null,
       "font_style": null,
       "font_variant": null,
       "font_weight": null,
       "text_color": null,
       "text_decoration": null
      }
     },
     "2fc45973ba8045f29d0979948cafa6f6": {
      "model_module": "@jupyter-widgets/controls",
      "model_module_version": "2.0.0",
      "model_name": "FileUploadModel",
      "state": {
       "accept": ".dcm",
       "description_allow_html": false,
       "layout": "IPY_MODEL_382d6d9d7165443990672aa256683966",
       "multiple": true,
       "style": "IPY_MODEL_d3d17dbfb76645a09ef00a0d50f32b1e"
      }
     },
     "324c6ecf20674d9a804be74a51f19378": {
      "model_module": "@jupyter-widgets/base",
      "model_module_version": "2.0.0",
      "model_name": "LayoutModel",
      "state": {}
     },
     "382d6d9d7165443990672aa256683966": {
      "model_module": "@jupyter-widgets/base",
      "model_module_version": "2.0.0",
      "model_name": "LayoutModel",
      "state": {}
     },
     "389f13c6aaa34c848aee9a888bc0e94d": {
      "model_module": "@jupyter-widgets/base",
      "model_module_version": "2.0.0",
      "model_name": "LayoutModel",
      "state": {}
     },
     "3eab132bf8e84ae6bc42123c429c3234": {
      "model_module": "@jupyter-widgets/controls",
      "model_module_version": "2.0.0",
      "model_name": "ButtonStyleModel",
      "state": {
       "font_family": null,
       "font_size": null,
       "font_style": null,
       "font_variant": null,
       "font_weight": null,
       "text_color": null,
       "text_decoration": null
      }
     },
     "3ecc2887d30345f5b1b4b11ffb940c4d": {
      "model_module": "@jupyter-widgets/base",
      "model_module_version": "2.0.0",
      "model_name": "LayoutModel",
      "state": {}
     },
     "4106d14002ab45b4abe9294e40eadf5e": {
      "model_module": "@jupyter-widgets/controls",
      "model_module_version": "2.0.0",
      "model_name": "ButtonStyleModel",
      "state": {
       "font_family": null,
       "font_size": null,
       "font_style": null,
       "font_variant": null,
       "font_weight": null,
       "text_color": null,
       "text_decoration": null
      }
     },
     "413aa44e79ef4430a39d52d10b9e8ed1": {
      "model_module": "@jupyter-widgets/controls",
      "model_module_version": "2.0.0",
      "model_name": "LabelModel",
      "state": {
       "layout": "IPY_MODEL_e3d074db932a488fa198459aba936d2b",
       "style": "IPY_MODEL_2f4ee202696347ffabcff54916f6094a",
       "value": "Upload any PA views here:"
      }
     },
     "42a7e3ada09c410ea3186c19941590c7": {
      "model_module": "@jupyter-widgets/controls",
      "model_module_version": "2.0.0",
      "model_name": "LabelStyleModel",
      "state": {
       "description_width": "",
       "font_family": null,
       "font_size": null,
       "font_style": null,
       "font_variant": null,
       "font_weight": null,
       "text_color": null,
       "text_decoration": null
      }
     },
     "44efd1eacaf74e15bffbdfba5e8ef976": {
      "model_module": "@jupyter-widgets/controls",
      "model_module_version": "2.0.0",
      "model_name": "FileUploadModel",
      "state": {
       "accept": ".dcm",
       "description_allow_html": false,
       "layout": "IPY_MODEL_679354ab5f4641aea0cbd7a2a7432cbb",
       "multiple": true,
       "style": "IPY_MODEL_9ff4d723947c46dc96261677c6678bf0"
      }
     },
     "47f7cee012f34c94907ba3b0605618bf": {
      "model_module": "@jupyter-widgets/output",
      "model_module_version": "1.0.0",
      "model_name": "OutputModel",
      "state": {
       "layout": "IPY_MODEL_0ac4ce532dae4eb2b9475635fd66c019"
      }
     },
     "49b6eab26293411f94d711f979e8cdcf": {
      "model_module": "@jupyter-widgets/controls",
      "model_module_version": "2.0.0",
      "model_name": "LabelStyleModel",
      "state": {
       "description_width": "",
       "font_family": null,
       "font_size": null,
       "font_style": null,
       "font_variant": null,
       "font_weight": null,
       "text_color": null,
       "text_decoration": null
      }
     },
     "4a68e4048e484d07bb39f88cebac28ba": {
      "model_module": "@jupyter-widgets/base",
      "model_module_version": "2.0.0",
      "model_name": "LayoutModel",
      "state": {}
     },
     "4a9385d9a55b49b58a38ce7755d0557b": {
      "model_module": "@jupyter-widgets/controls",
      "model_module_version": "2.0.0",
      "model_name": "FileUploadModel",
      "state": {
       "accept": ".dcm",
       "description_allow_html": false,
       "layout": "IPY_MODEL_bb05d782128448439e7996cce189c0d7",
       "multiple": true,
       "style": "IPY_MODEL_db1b89bc4f9e48ae920d91162f3c0d06"
      }
     },
     "4acc27aa94cf404bac502bb892492fbd": {
      "model_module": "@jupyter-widgets/base",
      "model_module_version": "2.0.0",
      "model_name": "LayoutModel",
      "state": {}
     },
     "4afa40fad3c44cb8929ec9ecff9aac41": {
      "model_module": "@jupyter-widgets/base",
      "model_module_version": "2.0.0",
      "model_name": "LayoutModel",
      "state": {}
     },
     "4faeba2622e64ca38a420123d26df284": {
      "model_module": "@jupyter-widgets/base",
      "model_module_version": "2.0.0",
      "model_name": "LayoutModel",
      "state": {}
     },
     "502675ac22d746bb8f1ac174773606ed": {
      "model_module": "@jupyter-widgets/controls",
      "model_module_version": "2.0.0",
      "model_name": "IntSliderModel",
      "state": {
       "behavior": "drag-tap",
       "layout": "IPY_MODEL_26b2b913b7c54b4ba5ab832d697a8e35",
       "style": "IPY_MODEL_94fa9a84f92f4ef497a5f05939e930ef"
      }
     },
     "5391cfceadab4609804c4f6bc62f53e9": {
      "model_module": "@jupyter-widgets/controls",
      "model_module_version": "2.0.0",
      "model_name": "LabelStyleModel",
      "state": {
       "description_width": "",
       "font_family": null,
       "font_size": null,
       "font_style": null,
       "font_variant": null,
       "font_weight": null,
       "text_color": null,
       "text_decoration": null
      }
     },
     "53f4c8381b8d41739eda6acc5ed81716": {
      "model_module": "@jupyter-widgets/controls",
      "model_module_version": "2.0.0",
      "model_name": "LabelStyleModel",
      "state": {
       "description_width": "",
       "font_family": null,
       "font_size": null,
       "font_style": null,
       "font_variant": null,
       "font_weight": null,
       "text_color": null,
       "text_decoration": null
      }
     },
     "56bb51cf56ba4b56b42bfb43ddb44cef": {
      "model_module": "@jupyter-widgets/base",
      "model_module_version": "2.0.0",
      "model_name": "LayoutModel",
      "state": {}
     },
     "590315bd9ad74333a6cbc98362a18c2c": {
      "model_module": "@jupyter-widgets/controls",
      "model_module_version": "2.0.0",
      "model_name": "ButtonStyleModel",
      "state": {
       "font_family": null,
       "font_size": null,
       "font_style": null,
       "font_variant": null,
       "font_weight": null,
       "text_color": null,
       "text_decoration": null
      }
     },
     "597e0d815fbb4e7cbc20a6dea7743ada": {
      "model_module": "@jupyter-widgets/controls",
      "model_module_version": "2.0.0",
      "model_name": "LabelModel",
      "state": {
       "layout": "IPY_MODEL_324c6ecf20674d9a804be74a51f19378",
       "style": "IPY_MODEL_060dc642d8014ea8b33bc21da2dc9c1f"
      }
     },
     "5c1ae6c386e943dc8938f99d79f0a108": {
      "model_module": "@jupyter-widgets/controls",
      "model_module_version": "2.0.0",
      "model_name": "FileUploadModel",
      "state": {
       "accept": ".dcm",
       "description_allow_html": false,
       "layout": "IPY_MODEL_4a68e4048e484d07bb39f88cebac28ba",
       "multiple": true,
       "style": "IPY_MODEL_d8217873c360447ba5b48417ac095b97"
      }
     },
     "5d06448bf13b4944b3fceaf04fb0e882": {
      "model_module": "@jupyter-widgets/controls",
      "model_module_version": "2.0.0",
      "model_name": "ButtonStyleModel",
      "state": {
       "font_family": null,
       "font_size": null,
       "font_style": null,
       "font_variant": null,
       "font_weight": null,
       "text_color": null,
       "text_decoration": null
      }
     },
     "5f764ae4fd914698ae034f43c395b721": {
      "model_module": "@jupyter-widgets/base",
      "model_module_version": "2.0.0",
      "model_name": "LayoutModel",
      "state": {}
     },
     "5f9b7db357504bba92ea8f19d5639893": {
      "model_module": "@jupyter-widgets/controls",
      "model_module_version": "2.0.0",
      "model_name": "HTMLStyleModel",
      "state": {
       "description_width": "",
       "font_size": null,
       "text_color": null
      }
     },
     "60b3015cf8034d9faebb6ef6380d3fd2": {
      "model_module": "@jupyter-widgets/controls",
      "model_module_version": "2.0.0",
      "model_name": "HTMLStyleModel",
      "state": {
       "description_width": "",
       "font_size": null,
       "text_color": null
      }
     },
     "63979d52e1c24763b0db17fcc48985dc": {
      "model_module": "@jupyter-widgets/controls",
      "model_module_version": "2.0.0",
      "model_name": "FileUploadModel",
      "state": {
       "accept": ".dcm",
       "description_allow_html": false,
       "layout": "IPY_MODEL_4faeba2622e64ca38a420123d26df284",
       "multiple": true,
       "style": "IPY_MODEL_a2ee1ac2ffc544269fa19017c38ff66b"
      }
     },
     "63edf0e011bb4c51bcd8b1d30777b8e3": {
      "model_module": "@jupyter-widgets/base",
      "model_module_version": "2.0.0",
      "model_name": "LayoutModel",
      "state": {}
     },
     "65d13c5ef5de4831ac3940636e76dbef": {
      "model_module": "@jupyter-widgets/base",
      "model_module_version": "2.0.0",
      "model_name": "LayoutModel",
      "state": {}
     },
     "679354ab5f4641aea0cbd7a2a7432cbb": {
      "model_module": "@jupyter-widgets/base",
      "model_module_version": "2.0.0",
      "model_name": "LayoutModel",
      "state": {}
     },
     "685c7da0ba8240cf9bb0cda8ac48ffd8": {
      "model_module": "@jupyter-widgets/controls",
      "model_module_version": "2.0.0",
      "model_name": "LabelModel",
      "state": {
       "layout": "IPY_MODEL_63edf0e011bb4c51bcd8b1d30777b8e3",
       "style": "IPY_MODEL_bcdf7a576f744dccbcf63014fb9b8e5a",
       "value": "Upload any RAO views here:"
      }
     },
     "69670a91a109449aa621e855d88b50da": {
      "model_module": "@jupyter-widgets/controls",
      "model_module_version": "2.0.0",
      "model_name": "IntSliderModel",
      "state": {
       "behavior": "drag-tap",
       "layout": "IPY_MODEL_0a666d03f8104a9c9a08d88ccbaf8777",
       "style": "IPY_MODEL_fcabd8fbe2ca475aab4e73cdd0f9ed4d",
       "value": 19
      }
     },
     "6d0dc8f4318442acaca4640c29f46db9": {
      "model_module": "@jupyter-widgets/controls",
      "model_module_version": "2.0.0",
      "model_name": "HTMLModel",
      "state": {
       "layout": "IPY_MODEL_928a84969df0428bb598f75fe2e60ddc",
       "style": "IPY_MODEL_5f9b7db357504bba92ea8f19d5639893",
       "value": "<style>p{word-wrap: break-word}</style><p>"
      }
     },
     "6d552378ff064d908cc1c8f2189be657": {
      "model_module": "@jupyter-widgets/controls",
      "model_module_version": "2.0.0",
      "model_name": "LabelStyleModel",
      "state": {
       "description_width": "",
       "font_family": null,
       "font_size": null,
       "font_style": null,
       "font_variant": null,
       "font_weight": null,
       "text_color": null,
       "text_decoration": null
      }
     },
     "71f403d106294c469a2357a3582c8c66": {
      "model_module": "@jupyter-widgets/controls",
      "model_module_version": "2.0.0",
      "model_name": "LabelModel",
      "state": {
       "layout": "IPY_MODEL_1051631a20234b578af9a35cf177e33b",
       "style": "IPY_MODEL_5391cfceadab4609804c4f6bc62f53e9",
       "value": "Upload any LAO views here:"
      }
     },
     "74239a28633f4d8581dc2ddb27d8d790": {
      "model_module": "@jupyter-widgets/base",
      "model_module_version": "2.0.0",
      "model_name": "LayoutModel",
      "state": {}
     },
     "7478ec92724542e68b44758995042b62": {
      "model_module": "@jupyter-widgets/controls",
      "model_module_version": "2.0.0",
      "model_name": "LabelStyleModel",
      "state": {
       "description_width": "",
       "font_family": null,
       "font_size": null,
       "font_style": null,
       "font_variant": null,
       "font_weight": null,
       "text_color": null,
       "text_decoration": null
      }
     },
     "74dd02cadf6e492489f9329fd4d69cfe": {
      "model_module": "@jupyter-widgets/base",
      "model_module_version": "2.0.0",
      "model_name": "LayoutModel",
      "state": {}
     },
     "78e5632b249d4fa5a8cc2822502ca368": {
      "model_module": "@jupyter-widgets/controls",
      "model_module_version": "2.0.0",
      "model_name": "LabelModel",
      "state": {
       "layout": "IPY_MODEL_981c371f1f1c4cb19dc39bb12a6a2c87",
       "style": "IPY_MODEL_e8805cc38c484ac38cc8e1f04732379b",
       "value": "Upload any AP LLD views here:"
      }
     },
     "7a25a98c6fc14156aaef595df54b8392": {
      "model_module": "@jupyter-widgets/controls",
      "model_module_version": "2.0.0",
      "model_name": "FileUploadModel",
      "state": {
       "accept": ".dcm",
       "description_allow_html": false,
       "layout": "IPY_MODEL_da4208b13a064482934509f7f22ef904",
       "multiple": true,
       "style": "IPY_MODEL_4106d14002ab45b4abe9294e40eadf5e"
      }
     },
     "7ad0ff84cff14c6caabbb28b754f15e7": {
      "model_module": "@jupyter-widgets/controls",
      "model_module_version": "2.0.0",
      "model_name": "ButtonStyleModel",
      "state": {
       "font_family": null,
       "font_size": null,
       "font_style": null,
       "font_variant": null,
       "font_weight": null,
       "text_color": null,
       "text_decoration": null
      }
     },
     "7f4326f53ffb407ba2638d2c0615105c": {
      "model_module": "@jupyter-widgets/controls",
      "model_module_version": "2.0.0",
      "model_name": "LabelModel",
      "state": {
       "layout": "IPY_MODEL_389f13c6aaa34c848aee9a888bc0e94d",
       "style": "IPY_MODEL_aa78858b057b4990815b5e9b38b85647",
       "value": "Upload any AP views here:"
      }
     },
     "82da63cb25104e5a9f8e994c0e6ab3c7": {
      "model_module": "@jupyter-widgets/controls",
      "model_module_version": "2.0.0",
      "model_name": "LabelModel",
      "state": {
       "layout": "IPY_MODEL_f262a4574dfa46f3876dc1828b2ba9fa",
       "style": "IPY_MODEL_53f4c8381b8d41739eda6acc5ed81716",
       "value": "Upload any LL views here:"
      }
     },
     "83b14b220e4b458da750c01557dffa27": {
      "model_module": "@jupyter-widgets/controls",
      "model_module_version": "2.0.0",
      "model_name": "LabelModel",
      "state": {
       "layout": "IPY_MODEL_2a5b316ec8814fc7a43bbbc747e00f2c",
       "style": "IPY_MODEL_1ae4275cdd17475e98291e29f001e184",
       "value": "Upload any PA RLD views here:"
      }
     },
     "8af66acc6b1541d4808868d6158a9de6": {
      "model_module": "@jupyter-widgets/base",
      "model_module_version": "2.0.0",
      "model_name": "LayoutModel",
      "state": {}
     },
     "8c4546cef63d4dd78767ff87fd779485": {
      "model_module": "@jupyter-widgets/controls",
      "model_module_version": "2.0.0",
      "model_name": "LabelStyleModel",
      "state": {
       "description_width": "",
       "font_family": null,
       "font_size": null,
       "font_style": null,
       "font_variant": null,
       "font_weight": null,
       "text_color": null,
       "text_decoration": null
      }
     },
     "8dadf0f5dab14ca2b1e01fde8d7b6427": {
      "model_module": "@jupyter-widgets/controls",
      "model_module_version": "2.0.0",
      "model_name": "ButtonStyleModel",
      "state": {
       "font_family": null,
       "font_size": null,
       "font_style": null,
       "font_variant": null,
       "font_weight": null,
       "text_color": null,
       "text_decoration": null
      }
     },
     "904aa98934da4b71a4564f5a8d7f90a6": {
      "model_module": "@jupyter-widgets/base",
      "model_module_version": "2.0.0",
      "model_name": "LayoutModel",
      "state": {}
     },
     "921dbe0f4c974fa3bf5d9aaea2aabe24": {
      "model_module": "@jupyter-widgets/controls",
      "model_module_version": "2.0.0",
      "model_name": "FileUploadModel",
      "state": {
       "accept": ".dcm",
       "description_allow_html": false,
       "layout": "IPY_MODEL_8af66acc6b1541d4808868d6158a9de6",
       "multiple": true,
       "style": "IPY_MODEL_fe4aa23eabdb4f7c891df37e8d56d3f5"
      }
     },
     "928a84969df0428bb598f75fe2e60ddc": {
      "model_module": "@jupyter-widgets/base",
      "model_module_version": "2.0.0",
      "model_name": "LayoutModel",
      "state": {}
     },
     "92f39dd5b7a84b3b9f53c0fb20373605": {
      "model_module": "@jupyter-widgets/base",
      "model_module_version": "2.0.0",
      "model_name": "LayoutModel",
      "state": {}
     },
     "94fa9a84f92f4ef497a5f05939e930ef": {
      "model_module": "@jupyter-widgets/controls",
      "model_module_version": "2.0.0",
      "model_name": "SliderStyleModel",
      "state": {
       "description_width": ""
      }
     },
     "981c371f1f1c4cb19dc39bb12a6a2c87": {
      "model_module": "@jupyter-widgets/base",
      "model_module_version": "2.0.0",
      "model_name": "LayoutModel",
      "state": {}
     },
     "9ff4d723947c46dc96261677c6678bf0": {
      "model_module": "@jupyter-widgets/controls",
      "model_module_version": "2.0.0",
      "model_name": "ButtonStyleModel",
      "state": {
       "font_family": null,
       "font_size": null,
       "font_style": null,
       "font_variant": null,
       "font_weight": null,
       "text_color": null,
       "text_decoration": null
      }
     },
     "a2ee1ac2ffc544269fa19017c38ff66b": {
      "model_module": "@jupyter-widgets/controls",
      "model_module_version": "2.0.0",
      "model_name": "ButtonStyleModel",
      "state": {
       "font_family": null,
       "font_size": null,
       "font_style": null,
       "font_variant": null,
       "font_weight": null,
       "text_color": null,
       "text_decoration": null
      }
     },
     "a8fa155bd5b84f0ea0c1a1f6b42f8de9": {
      "model_module": "@jupyter-widgets/base",
      "model_module_version": "2.0.0",
      "model_name": "LayoutModel",
      "state": {}
     },
     "a96d074dde8541898f6746b8b6d38b87": {
      "model_module": "@jupyter-widgets/controls",
      "model_module_version": "2.0.0",
      "model_name": "LabelModel",
      "state": {
       "layout": "IPY_MODEL_00a40232141e41eeb4fb4ae6220a1eea",
       "style": "IPY_MODEL_8c4546cef63d4dd78767ff87fd779485",
       "value": "Upload any LPO views here:"
      }
     },
     "aa1cf90062834fcd966c90faecb34939": {
      "model_module": "@jupyter-widgets/controls",
      "model_module_version": "2.0.0",
      "model_name": "FileUploadModel",
      "state": {
       "accept": ".dcm",
       "description_allow_html": false,
       "layout": "IPY_MODEL_56bb51cf56ba4b56b42bfb43ddb44cef",
       "multiple": true,
       "style": "IPY_MODEL_b8e64959fe4849c1aa7e55a4632d897c"
      }
     },
     "aa78858b057b4990815b5e9b38b85647": {
      "model_module": "@jupyter-widgets/controls",
      "model_module_version": "2.0.0",
      "model_name": "LabelStyleModel",
      "state": {
       "description_width": "",
       "font_family": null,
       "font_size": null,
       "font_style": null,
       "font_variant": null,
       "font_weight": null,
       "text_color": null,
       "text_decoration": null
      }
     },
     "ab002dbe3a6a4e2ba12f7f50014da5ab": {
      "model_module": "@jupyter-widgets/controls",
      "model_module_version": "2.0.0",
      "model_name": "ButtonStyleModel",
      "state": {
       "font_family": null,
       "font_size": null,
       "font_style": null,
       "font_variant": null,
       "font_weight": null,
       "text_color": null,
       "text_decoration": null
      }
     },
     "ac803736381d48aa9b598e77945fc070": {
      "model_module": "@jupyter-widgets/base",
      "model_module_version": "2.0.0",
      "model_name": "LayoutModel",
      "state": {}
     },
     "b09696383a8c47348e251c48d905d332": {
      "model_module": "@jupyter-widgets/controls",
      "model_module_version": "2.0.0",
      "model_name": "FileUploadModel",
      "state": {
       "accept": ".dcm",
       "description_allow_html": false,
       "layout": "IPY_MODEL_a8fa155bd5b84f0ea0c1a1f6b42f8de9",
       "multiple": true,
       "style": "IPY_MODEL_590315bd9ad74333a6cbc98362a18c2c"
      }
     },
     "b8e64959fe4849c1aa7e55a4632d897c": {
      "model_module": "@jupyter-widgets/controls",
      "model_module_version": "2.0.0",
      "model_name": "ButtonStyleModel",
      "state": {
       "font_family": null,
       "font_size": null,
       "font_style": null,
       "font_variant": null,
       "font_weight": null,
       "text_color": null,
       "text_decoration": null
      }
     },
     "ba090ba8e2064942a779943d8b90f196": {
      "model_module": "@jupyter-widgets/controls",
      "model_module_version": "2.0.0",
      "model_name": "FileUploadModel",
      "state": {
       "accept": ".dcm",
       "description_allow_html": false,
       "layout": "IPY_MODEL_65d13c5ef5de4831ac3940636e76dbef",
       "multiple": true,
       "style": "IPY_MODEL_e34fc8dbba304689a3c23f7950bffe9f"
      }
     },
     "bb05d782128448439e7996cce189c0d7": {
      "model_module": "@jupyter-widgets/base",
      "model_module_version": "2.0.0",
      "model_name": "LayoutModel",
      "state": {}
     },
     "bc4108993f0e40f395ac86bf4da2ba66": {
      "model_module": "@jupyter-widgets/base",
      "model_module_version": "2.0.0",
      "model_name": "LayoutModel",
      "state": {
       "align_items": "center",
       "display": "flex",
       "width": "100%"
      }
     },
     "bcdf7a576f744dccbcf63014fb9b8e5a": {
      "model_module": "@jupyter-widgets/controls",
      "model_module_version": "2.0.0",
      "model_name": "LabelStyleModel",
      "state": {
       "description_width": "",
       "font_family": null,
       "font_size": null,
       "font_style": null,
       "font_variant": null,
       "font_weight": null,
       "text_color": null,
       "text_decoration": null
      }
     },
     "bd56bff102214fbf8d9231e1adc33b23": {
      "model_module": "@jupyter-widgets/controls",
      "model_module_version": "2.0.0",
      "model_name": "LabelStyleModel",
      "state": {
       "description_width": "",
       "font_family": null,
       "font_size": null,
       "font_style": null,
       "font_variant": null,
       "font_weight": null,
       "text_color": null,
       "text_decoration": null
      }
     },
     "c1682e57a5b24cf29c97d5839105517f": {
      "model_module": "@jupyter-widgets/controls",
      "model_module_version": "2.0.0",
      "model_name": "FileUploadModel",
      "state": {
       "accept": ".dcm",
       "description_allow_html": false,
       "layout": "IPY_MODEL_74239a28633f4d8581dc2ddb27d8d790",
       "multiple": true,
       "style": "IPY_MODEL_5d06448bf13b4944b3fceaf04fb0e882"
      }
     },
     "c1f6c658b237486887de6ef60c38f53f": {
      "model_module": "@jupyter-widgets/controls",
      "model_module_version": "2.0.0",
      "model_name": "FileUploadModel",
      "state": {
       "accept": ".dcm",
       "description_allow_html": false,
       "layout": "IPY_MODEL_ec226501e14c461e9011d1fa093c4397",
       "multiple": true,
       "style": "IPY_MODEL_8dadf0f5dab14ca2b1e01fde8d7b6427"
      }
     },
     "c5efca7eb89240c99ce12df40d9e53da": {
      "model_module": "@jupyter-widgets/controls",
      "model_module_version": "2.0.0",
      "model_name": "FileUploadModel",
      "state": {
       "accept": ".dcm",
       "description_allow_html": false,
       "layout": "IPY_MODEL_5f764ae4fd914698ae034f43c395b721",
       "multiple": true,
       "style": "IPY_MODEL_3eab132bf8e84ae6bc42123c429c3234"
      }
     },
     "ceff10224aab44d0a006393cdc01fd02": {
      "model_module": "@jupyter-widgets/controls",
      "model_module_version": "2.0.0",
      "model_name": "LabelStyleModel",
      "state": {
       "description_width": "",
       "font_family": null,
       "font_size": null,
       "font_style": null,
       "font_variant": null,
       "font_weight": null,
       "text_color": null,
       "text_decoration": null
      }
     },
     "d00b3c0599274b00b7a19e05fa850d7d": {
      "model_module": "@jupyter-widgets/base",
      "model_module_version": "2.0.0",
      "model_name": "LayoutModel",
      "state": {}
     },
     "d0aeedb3024f4e34a5ae683019846cca": {
      "model_module": "@jupyter-widgets/base",
      "model_module_version": "2.0.0",
      "model_name": "LayoutModel",
      "state": {}
     },
     "d3d17dbfb76645a09ef00a0d50f32b1e": {
      "model_module": "@jupyter-widgets/controls",
      "model_module_version": "2.0.0",
      "model_name": "ButtonStyleModel",
      "state": {
       "font_family": null,
       "font_size": null,
       "font_style": null,
       "font_variant": null,
       "font_weight": null,
       "text_color": null,
       "text_decoration": null
      }
     },
     "d8217873c360447ba5b48417ac095b97": {
      "model_module": "@jupyter-widgets/controls",
      "model_module_version": "2.0.0",
      "model_name": "ButtonStyleModel",
      "state": {
       "font_family": null,
       "font_size": null,
       "font_style": null,
       "font_variant": null,
       "font_weight": null,
       "text_color": null,
       "text_decoration": null
      }
     },
     "d84f20a6b37f4bcf9dd3938bcf7a9101": {
      "model_module": "@jupyter-widgets/controls",
      "model_module_version": "2.0.0",
      "model_name": "LabelModel",
      "state": {
       "layout": "IPY_MODEL_d0aeedb3024f4e34a5ae683019846cca",
       "style": "IPY_MODEL_49b6eab26293411f94d711f979e8cdcf"
      }
     },
     "da4208b13a064482934509f7f22ef904": {
      "model_module": "@jupyter-widgets/base",
      "model_module_version": "2.0.0",
      "model_name": "LayoutModel",
      "state": {}
     },
     "daa3da361ca14cb2b894d110601261fb": {
      "model_module": "@jupyter-widgets/base",
      "model_module_version": "2.0.0",
      "model_name": "LayoutModel",
      "state": {}
     },
     "db1b89bc4f9e48ae920d91162f3c0d06": {
      "model_module": "@jupyter-widgets/controls",
      "model_module_version": "2.0.0",
      "model_name": "ButtonStyleModel",
      "state": {
       "font_family": null,
       "font_size": null,
       "font_style": null,
       "font_variant": null,
       "font_weight": null,
       "text_color": null,
       "text_decoration": null
      }
     },
     "e0175b08ad9948f7a6af43c88d9bf0fe": {
      "model_module": "@jupyter-widgets/base",
      "model_module_version": "2.0.0",
      "model_name": "LayoutModel",
      "state": {}
     },
     "e34fc8dbba304689a3c23f7950bffe9f": {
      "model_module": "@jupyter-widgets/controls",
      "model_module_version": "2.0.0",
      "model_name": "ButtonStyleModel",
      "state": {
       "font_family": null,
       "font_size": null,
       "font_style": null,
       "font_variant": null,
       "font_weight": null,
       "text_color": null,
       "text_decoration": null
      }
     },
     "e3d074db932a488fa198459aba936d2b": {
      "model_module": "@jupyter-widgets/base",
      "model_module_version": "2.0.0",
      "model_name": "LayoutModel",
      "state": {}
     },
     "e4d514c9b72f4a62998a09634c83d0c9": {
      "model_module": "@jupyter-widgets/controls",
      "model_module_version": "2.0.0",
      "model_name": "HTMLModel",
      "state": {
       "layout": "IPY_MODEL_4afa40fad3c44cb8929ec9ecff9aac41",
       "style": "IPY_MODEL_60b3015cf8034d9faebb6ef6380d3fd2",
       "value": "<em>Vertical Box Example</em>"
      }
     },
     "e8805cc38c484ac38cc8e1f04732379b": {
      "model_module": "@jupyter-widgets/controls",
      "model_module_version": "2.0.0",
      "model_name": "LabelStyleModel",
      "state": {
       "description_width": "",
       "font_family": null,
       "font_size": null,
       "font_style": null,
       "font_variant": null,
       "font_weight": null,
       "text_color": null,
       "text_decoration": null
      }
     },
     "e8c6a8d8b8e3475e93c810e4c9d7bf50": {
      "model_module": "@jupyter-widgets/controls",
      "model_module_version": "2.0.0",
      "model_name": "LabelModel",
      "state": {
       "layout": "IPY_MODEL_92f39dd5b7a84b3b9f53c0fb20373605",
       "style": "IPY_MODEL_bd56bff102214fbf8d9231e1adc33b23",
       "value": "Upload any xtable lateral views here:"
      }
     },
     "ec226501e14c461e9011d1fa093c4397": {
      "model_module": "@jupyter-widgets/base",
      "model_module_version": "2.0.0",
      "model_name": "LayoutModel",
      "state": {}
     },
     "efe06c8654f24c868df43c849a3738f4": {
      "model_module": "@jupyter-widgets/controls",
      "model_module_version": "2.0.0",
      "model_name": "LabelStyleModel",
      "state": {
       "description_width": "",
       "font_family": null,
       "font_size": null,
       "font_style": null,
       "font_variant": null,
       "font_weight": null,
       "text_color": null,
       "text_decoration": null
      }
     },
     "f262a4574dfa46f3876dc1828b2ba9fa": {
      "model_module": "@jupyter-widgets/base",
      "model_module_version": "2.0.0",
      "model_name": "LayoutModel",
      "state": {}
     },
     "fcabd8fbe2ca475aab4e73cdd0f9ed4d": {
      "model_module": "@jupyter-widgets/controls",
      "model_module_version": "2.0.0",
      "model_name": "SliderStyleModel",
      "state": {
       "description_width": ""
      }
     },
     "fe4aa23eabdb4f7c891df37e8d56d3f5": {
      "model_module": "@jupyter-widgets/controls",
      "model_module_version": "2.0.0",
      "model_name": "ButtonStyleModel",
      "state": {
       "font_family": null,
       "font_size": null,
       "font_style": null,
       "font_variant": null,
       "font_weight": null,
       "text_color": null,
       "text_decoration": null
      }
     }
    },
    "version_major": 2,
    "version_minor": 0
   }
  }
 },
 "nbformat": 4,
 "nbformat_minor": 4
}
